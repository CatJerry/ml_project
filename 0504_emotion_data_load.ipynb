{
 "cells": [
  {
   "cell_type": "code",
   "execution_count": 4,
   "metadata": {},
   "outputs": [],
   "source": [
    "import cv2\n",
    "from glob import glob\n",
    "import os\n",
    "import numpy as np\n",
    "\n",
    "train_path = 'C:/deeplearning/emotion/train/'\n",
    "test_path = 'C:/deeplearning/emotion/test/'\n",
    "\n",
    "class_list = os.listdir(train_path)\n",
    "\n",
    "# def kor_img(path):\n",
    "#     img_array = np.fromfile(path, np.uint8)\n",
    "#     img = cv2.imdecode(img_array, cv2.IMREAD_COLOR)\n",
    "#     return img\n",
    "# def eng_img(path):\n",
    "#     img_array = np.fromfile(path)\n",
    "#     img = cv2.imdecode(img_array, cv2.IMREAD_GRAYSCALE)\n",
    "#     return img"
   ]
  },
  {
   "cell_type": "code",
   "execution_count": 9,
   "metadata": {},
   "outputs": [
    {
     "name": "stderr",
     "output_type": "stream",
     "text": [
      "100%|██████████| 7/7 [00:27<00:00,  3.96s/it]\n"
     ]
    }
   ],
   "source": [
    "from tqdm.auto import tqdm\n",
    "\n",
    "# 파일 하나씩 읽어오기\n",
    "train_dataset = []\n",
    "noneset = [] #이미지를 제대로 읽어오지 못한 경우 noneset에 저장.\n",
    "\n",
    "for class_name in tqdm(class_list):\n",
    "    train_files = glob(train_path+class_name+\"/*.png\")\n",
    "\n",
    "    for train_file in train_files:\n",
    "        img = cv2.imread(train_file)\n",
    "        if img is None:\n",
    "            noneset.append(train_file)\n",
    "            continue\n",
    "        train_dataset.append((img, class_name)) # X : img, y(label) : class_name"
   ]
  },
  {
   "cell_type": "code",
   "execution_count": 10,
   "metadata": {},
   "outputs": [
    {
     "data": {
      "text/plain": [
       "[]"
      ]
     },
     "execution_count": 10,
     "metadata": {},
     "output_type": "execute_result"
    }
   ],
   "source": [
    "noneset"
   ]
  },
  {
   "cell_type": "code",
   "execution_count": 11,
   "metadata": {},
   "outputs": [],
   "source": [
    "import pickle\n",
    "with open('emo_train_dataset_real.pkl', 'wb') as f:\n",
    "    pickle.dump(train_dataset, f)"
   ]
  },
  {
   "cell_type": "code",
   "execution_count": 14,
   "metadata": {},
   "outputs": [
    {
     "name": "stderr",
     "output_type": "stream",
     "text": [
      "100%|██████████| 7/7 [00:25<00:00,  3.61s/it]\n"
     ]
    }
   ],
   "source": [
    "# 파일 하나씩 읽어오기\n",
    "test_dataset = []\n",
    "noneset = []\n",
    "\n",
    "for class_name in tqdm(class_list):\n",
    "    test_files = glob(test_path+class_name+\"/*.png\")\n",
    "\n",
    "    for test_file in test_files:\n",
    "        img = cv2.imread(test_file)\n",
    "        if img is None:\n",
    "            noneset.append(test_file)\n",
    "            continue\n",
    "        test_dataset.append((img, class_name)) # X : img, y(label) : class_name"
   ]
  },
  {
   "cell_type": "code",
   "execution_count": 16,
   "metadata": {},
   "outputs": [],
   "source": [
    "import pickle\n",
    "with open('emo_test_dataset_real.pkl', 'wb') as f:\n",
    "    pickle.dump(test_dataset, f)"
   ]
  },
  {
   "cell_type": "code",
   "execution_count": null,
   "metadata": {},
   "outputs": [],
   "source": []
  }
 ],
 "metadata": {
  "kernelspec": {
   "display_name": "base",
   "language": "python",
   "name": "python3"
  },
  "language_info": {
   "codemirror_mode": {
    "name": "ipython",
    "version": 3
   },
   "file_extension": ".py",
   "mimetype": "text/x-python",
   "name": "python",
   "nbconvert_exporter": "python",
   "pygments_lexer": "ipython3",
   "version": "3.8.8"
  },
  "orig_nbformat": 4
 },
 "nbformat": 4,
 "nbformat_minor": 2
}

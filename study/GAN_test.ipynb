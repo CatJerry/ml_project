{
 "cells": [
  {
   "cell_type": "code",
   "execution_count": 161,
   "metadata": {},
   "outputs": [],
   "source": [
    "import torch\n",
    "import torch.nn as nn\n",
    "import matplotlib.pyplot as plt"
   ]
  },
  {
   "cell_type": "code",
   "execution_count": 162,
   "metadata": {},
   "outputs": [
    {
     "data": {
      "text/plain": [
       "'2.0.0'"
      ]
     },
     "execution_count": 162,
     "metadata": {},
     "output_type": "execute_result"
    }
   ],
   "source": [
    "torch.__version__"
   ]
  },
  {
   "cell_type": "code",
   "execution_count": 163,
   "metadata": {},
   "outputs": [],
   "source": [
    "from torchvision import datasets, transforms\n",
    "from torch.utils.data import DataLoader"
   ]
  },
  {
   "cell_type": "code",
   "execution_count": 164,
   "metadata": {},
   "outputs": [],
   "source": [
    "# mnist image\n",
    "image_shape = (1,28,28)\n",
    "BATCH_SIZE = 128\n",
    "\n",
    "# 데이터 셋 구성\n",
    "transform = transforms.Compose([transforms.Resize(image_shape[-2:]),\n",
    "                                transforms.ToTensor(),\n",
    "                                transforms.Normalize([0.5],[0.5])]\n",
    "                                )\n",
    "dataset = datasets.MNIST(root='./data',train=True,download=True,transform=transform)\n",
    "dataloader = DataLoader(dataset,batch_size=BATCH_SIZE, shuffle=True)\n"
   ]
  },
  {
   "cell_type": "code",
   "execution_count": 165,
   "metadata": {},
   "outputs": [],
   "source": [
    "# Model 생성\n",
    "# Generator\n",
    "class Generator(nn.Module):\n",
    "    def __init__(self,latent_dim, num_classes, image_shape):\n",
    "        super().__init__()\n",
    "        \n",
    "        self.latent_dim = latent_dim\n",
    "        self.label_emb = nn.Embedding(num_classes,latent_dim)\n",
    "\n",
    "        self.model = nn.Sequential(\n",
    "            nn.Linear(latent_dim, 128),\n",
    "            nn.ReLU(),\n",
    "            nn.Linear(128, int(image_shape[0]*image_shape[1]*image_shape[2])),\n",
    "            nn.Tanh() \n",
    "        )\n",
    "    def forward(self, noise, labels):\n",
    "        x = torch.mul(self.label_emb(labels),noise)\n",
    "        x = self.model(x)\n",
    "        return x.view(x.size(0), *image_shape)\n",
    "        # return x.reshape(x.size(0), *image_shape)"
   ]
  },
  {
   "cell_type": "code",
   "execution_count": 166,
   "metadata": {},
   "outputs": [],
   "source": [
    "# Discriminator\n",
    "class Discriminator(nn.Module):\n",
    "    def __init__(self,num_classes,image_shape):\n",
    "        super().__init__()\n",
    "\n",
    "        self.label_emb = nn.Embedding(num_classes,int(image_shape[0]*image_shape[1]*image_shape[2]))\n",
    "        \n",
    "        self.model = nn.Sequential(\n",
    "            # *2: 원래 들어간 정보와 생성한 이미지 두개이기 때문에 2를 곱해준다.\n",
    "            nn.Linear(int(image_shape[0]*image_shape[1]*image_shape[2])*2,128),\n",
    "            nn.ReLU(),\n",
    "            nn.Linear(128,1),\n",
    "            nn.Sigmoid()\n",
    "        )\n",
    "    def forward(self,images,labels):\n",
    "        # view는 reshape와 비슷한 기능을 한다.\n",
    "        # -1: 가로로 합치자\n",
    "        x = torch.cat((images.view(images.size(0),-1),self.label_emb(labels)),-1)\n",
    "        x = self.model(x)\n",
    "        return x"
   ]
  },
  {
   "cell_type": "code",
   "execution_count": 167,
   "metadata": {},
   "outputs": [],
   "source": [
    "# hyperparameter\n",
    "latent_dim = 100    # 고객의 요구사항\n",
    "num_classes = 10    # 클래스 개수 정하는법?\n",
    "num_epochs = 100     # 학습 횟수\n",
    "learning_rate = 2e-3\n",
    "device = 'mps'"
   ]
  },
  {
   "cell_type": "code",
   "execution_count": 168,
   "metadata": {},
   "outputs": [],
   "source": [
    "# model\n",
    "generator = Generator(latent_dim,num_classes,image_shape)\n",
    "discriminator = Discriminator(num_classes,image_shape)"
   ]
  },
  {
   "cell_type": "code",
   "execution_count": 169,
   "metadata": {},
   "outputs": [],
   "source": [
    "# lossfunction, optimizer\n",
    "from torch import optim\n",
    "criterion = nn.BCELoss()\n",
    "optimizer_g = optim.Adam(generator.parameters(),lr=learning_rate)\n",
    "optimizer_d = optim.Adam(discriminator.parameters(),lr=learning_rate)"
   ]
  },
  {
   "cell_type": "code",
   "execution_count": 170,
   "metadata": {},
   "outputs": [
    {
     "ename": "RuntimeError",
     "evalue": "Placeholder storage has not been allocated on MPS device!",
     "output_type": "error",
     "traceback": [
      "\u001b[0;31m---------------------------------------------------------------------------\u001b[0m",
      "\u001b[0;31mRuntimeError\u001b[0m                              Traceback (most recent call last)",
      "Cell \u001b[0;32mIn[170], line 8\u001b[0m\n\u001b[1;32m      5\u001b[0m real_labels \u001b[39m=\u001b[39m labels\u001b[39m.\u001b[39mto(device)\n\u001b[1;32m      7\u001b[0m \u001b[39m# real data loss\u001b[39;00m\n\u001b[0;32m----> 8\u001b[0m real_pred \u001b[39m=\u001b[39m discriminator(real_imgs,real_labels)\n\u001b[1;32m      9\u001b[0m \u001b[39m# 진짜 이미지만 학습시켰기 때문에 뒤에는 y_labels가 아닌 1을 넣어준다.(진짜는 1 가짜는 0으로 판별하기로 함.)\u001b[39;00m\n\u001b[1;32m     10\u001b[0m real_loss \u001b[39m=\u001b[39m criterion(real_pred,torch\u001b[39m.\u001b[39mones_like(real_pred)) \u001b[39m# 1(진짜)을 넣는 요령 -> real_pred모양으로\u001b[39;00m\n",
      "File \u001b[0;32m/opt/homebrew/Caskroom/miniconda/base/envs/machine/lib/python3.8/site-packages/torch/nn/modules/module.py:1501\u001b[0m, in \u001b[0;36mModule._call_impl\u001b[0;34m(self, *args, **kwargs)\u001b[0m\n\u001b[1;32m   1496\u001b[0m \u001b[39m# If we don't have any hooks, we want to skip the rest of the logic in\u001b[39;00m\n\u001b[1;32m   1497\u001b[0m \u001b[39m# this function, and just call forward.\u001b[39;00m\n\u001b[1;32m   1498\u001b[0m \u001b[39mif\u001b[39;00m \u001b[39mnot\u001b[39;00m (\u001b[39mself\u001b[39m\u001b[39m.\u001b[39m_backward_hooks \u001b[39mor\u001b[39;00m \u001b[39mself\u001b[39m\u001b[39m.\u001b[39m_backward_pre_hooks \u001b[39mor\u001b[39;00m \u001b[39mself\u001b[39m\u001b[39m.\u001b[39m_forward_hooks \u001b[39mor\u001b[39;00m \u001b[39mself\u001b[39m\u001b[39m.\u001b[39m_forward_pre_hooks\n\u001b[1;32m   1499\u001b[0m         \u001b[39mor\u001b[39;00m _global_backward_pre_hooks \u001b[39mor\u001b[39;00m _global_backward_hooks\n\u001b[1;32m   1500\u001b[0m         \u001b[39mor\u001b[39;00m _global_forward_hooks \u001b[39mor\u001b[39;00m _global_forward_pre_hooks):\n\u001b[0;32m-> 1501\u001b[0m     \u001b[39mreturn\u001b[39;00m forward_call(\u001b[39m*\u001b[39;49margs, \u001b[39m*\u001b[39;49m\u001b[39m*\u001b[39;49mkwargs)\n\u001b[1;32m   1502\u001b[0m \u001b[39m# Do not call functions when jit is used\u001b[39;00m\n\u001b[1;32m   1503\u001b[0m full_backward_hooks, non_full_backward_hooks \u001b[39m=\u001b[39m [], []\n",
      "Cell \u001b[0;32mIn[166], line 18\u001b[0m, in \u001b[0;36mDiscriminator.forward\u001b[0;34m(self, images, labels)\u001b[0m\n\u001b[1;32m     15\u001b[0m \u001b[39mdef\u001b[39;00m \u001b[39mforward\u001b[39m(\u001b[39mself\u001b[39m,images,labels):\n\u001b[1;32m     16\u001b[0m     \u001b[39m# view는 reshape와 비슷한 기능을 한다.\u001b[39;00m\n\u001b[1;32m     17\u001b[0m     \u001b[39m# -1: 가로로 합치자\u001b[39;00m\n\u001b[0;32m---> 18\u001b[0m     x \u001b[39m=\u001b[39m torch\u001b[39m.\u001b[39mcat((images\u001b[39m.\u001b[39mview(images\u001b[39m.\u001b[39msize(\u001b[39m0\u001b[39m),\u001b[39m-\u001b[39m\u001b[39m1\u001b[39m),\u001b[39mself\u001b[39;49m\u001b[39m.\u001b[39;49mlabel_emb(labels)),\u001b[39m-\u001b[39m\u001b[39m1\u001b[39m)\n\u001b[1;32m     19\u001b[0m     x \u001b[39m=\u001b[39m \u001b[39mself\u001b[39m\u001b[39m.\u001b[39mmodel(x)\n\u001b[1;32m     20\u001b[0m     \u001b[39mreturn\u001b[39;00m x\n",
      "File \u001b[0;32m/opt/homebrew/Caskroom/miniconda/base/envs/machine/lib/python3.8/site-packages/torch/nn/modules/module.py:1501\u001b[0m, in \u001b[0;36mModule._call_impl\u001b[0;34m(self, *args, **kwargs)\u001b[0m\n\u001b[1;32m   1496\u001b[0m \u001b[39m# If we don't have any hooks, we want to skip the rest of the logic in\u001b[39;00m\n\u001b[1;32m   1497\u001b[0m \u001b[39m# this function, and just call forward.\u001b[39;00m\n\u001b[1;32m   1498\u001b[0m \u001b[39mif\u001b[39;00m \u001b[39mnot\u001b[39;00m (\u001b[39mself\u001b[39m\u001b[39m.\u001b[39m_backward_hooks \u001b[39mor\u001b[39;00m \u001b[39mself\u001b[39m\u001b[39m.\u001b[39m_backward_pre_hooks \u001b[39mor\u001b[39;00m \u001b[39mself\u001b[39m\u001b[39m.\u001b[39m_forward_hooks \u001b[39mor\u001b[39;00m \u001b[39mself\u001b[39m\u001b[39m.\u001b[39m_forward_pre_hooks\n\u001b[1;32m   1499\u001b[0m         \u001b[39mor\u001b[39;00m _global_backward_pre_hooks \u001b[39mor\u001b[39;00m _global_backward_hooks\n\u001b[1;32m   1500\u001b[0m         \u001b[39mor\u001b[39;00m _global_forward_hooks \u001b[39mor\u001b[39;00m _global_forward_pre_hooks):\n\u001b[0;32m-> 1501\u001b[0m     \u001b[39mreturn\u001b[39;00m forward_call(\u001b[39m*\u001b[39;49margs, \u001b[39m*\u001b[39;49m\u001b[39m*\u001b[39;49mkwargs)\n\u001b[1;32m   1502\u001b[0m \u001b[39m# Do not call functions when jit is used\u001b[39;00m\n\u001b[1;32m   1503\u001b[0m full_backward_hooks, non_full_backward_hooks \u001b[39m=\u001b[39m [], []\n",
      "File \u001b[0;32m/opt/homebrew/Caskroom/miniconda/base/envs/machine/lib/python3.8/site-packages/torch/nn/modules/sparse.py:162\u001b[0m, in \u001b[0;36mEmbedding.forward\u001b[0;34m(self, input)\u001b[0m\n\u001b[1;32m    161\u001b[0m \u001b[39mdef\u001b[39;00m \u001b[39mforward\u001b[39m(\u001b[39mself\u001b[39m, \u001b[39minput\u001b[39m: Tensor) \u001b[39m-\u001b[39m\u001b[39m>\u001b[39m Tensor:\n\u001b[0;32m--> 162\u001b[0m     \u001b[39mreturn\u001b[39;00m F\u001b[39m.\u001b[39;49membedding(\n\u001b[1;32m    163\u001b[0m         \u001b[39minput\u001b[39;49m, \u001b[39mself\u001b[39;49m\u001b[39m.\u001b[39;49mweight, \u001b[39mself\u001b[39;49m\u001b[39m.\u001b[39;49mpadding_idx, \u001b[39mself\u001b[39;49m\u001b[39m.\u001b[39;49mmax_norm,\n\u001b[1;32m    164\u001b[0m         \u001b[39mself\u001b[39;49m\u001b[39m.\u001b[39;49mnorm_type, \u001b[39mself\u001b[39;49m\u001b[39m.\u001b[39;49mscale_grad_by_freq, \u001b[39mself\u001b[39;49m\u001b[39m.\u001b[39;49msparse)\n",
      "File \u001b[0;32m/opt/homebrew/Caskroom/miniconda/base/envs/machine/lib/python3.8/site-packages/torch/nn/functional.py:2210\u001b[0m, in \u001b[0;36membedding\u001b[0;34m(input, weight, padding_idx, max_norm, norm_type, scale_grad_by_freq, sparse)\u001b[0m\n\u001b[1;32m   2204\u001b[0m     \u001b[39m# Note [embedding_renorm set_grad_enabled]\u001b[39;00m\n\u001b[1;32m   2205\u001b[0m     \u001b[39m# XXX: equivalent to\u001b[39;00m\n\u001b[1;32m   2206\u001b[0m     \u001b[39m# with torch.no_grad():\u001b[39;00m\n\u001b[1;32m   2207\u001b[0m     \u001b[39m#   torch.embedding_renorm_\u001b[39;00m\n\u001b[1;32m   2208\u001b[0m     \u001b[39m# remove once script supports set_grad_enabled\u001b[39;00m\n\u001b[1;32m   2209\u001b[0m     _no_grad_embedding_renorm_(weight, \u001b[39minput\u001b[39m, max_norm, norm_type)\n\u001b[0;32m-> 2210\u001b[0m \u001b[39mreturn\u001b[39;00m torch\u001b[39m.\u001b[39;49membedding(weight, \u001b[39minput\u001b[39;49m, padding_idx, scale_grad_by_freq, sparse)\n",
      "\u001b[0;31mRuntimeError\u001b[0m: Placeholder storage has not been allocated on MPS device!"
     ]
    }
   ],
   "source": [
    "# 학습\n",
    "for epoch in range(num_epochs):\n",
    "    for i,(imgs,labels) in enumerate(dataloader):\n",
    "        real_imgs = imgs.to(device)\n",
    "        real_labels = labels.to(device)\n",
    "\n",
    "        # real data loss\n",
    "        real_pred = discriminator(real_imgs,real_labels)\n",
    "        # 진짜 이미지만 학습시켰기 때문에 뒤에는 y_labels가 아닌 1을 넣어준다.(진짜는 1 가짜는 0으로 판별하기로 함.)\n",
    "        real_loss = criterion(real_pred,torch.ones_like(real_pred)) # 1(진짜)을 넣는 요령 -> real_pred모양으로\n",
    "\n",
    "        # fake data gen\n",
    "        noise = torch.randn(BATCH_SIZE,latent_dim).to(device)\n",
    "        gen_labels=torch.randint(0,num_classes,(BATCH_SIZE,)).to(device)\n",
    "        gen_imgs = generator(noise,gen_labels)\n",
    "\n",
    "        # fake data loss\n",
    "        fake_pred = discriminator(gen_imgs,gen_labels)\n",
    "        fake_loss = criterion(fake_pred,torch.zeros_like(fake_pred))\n",
    "\n",
    "        # update\n",
    "        d_loss = real_loss + fake_loss\n",
    "        optimizer_d.zero_grad()\n",
    "        d_loss.backward()\n",
    "        optimizer_d.step()\n",
    "\n",
    "        # generator update\n",
    "        fake_pred = discriminator(gen_imgs,gen_labels)\n",
    "        fake_loss = criterion(fake_pred,torch.ones_like(fake_pred))\n",
    "        optimizer_g.zero_grad()\n",
    "        fake_loss.backward()\n",
    "        optimizer_g.step()\n",
    "    clear_output()\n",
    "    # squeeze ?\n",
    "    plt.imshow(gen_imgs.detach().numpy()[0].squeeze(0))\n",
    "    plt.title(str(epoch)+'회')\n",
    "    plt.show()"
   ]
  },
  {
   "cell_type": "code",
   "execution_count": null,
   "metadata": {},
   "outputs": [],
   "source": [
    "\n"
   ]
  },
  {
   "cell_type": "code",
   "execution_count": null,
   "metadata": {},
   "outputs": [],
   "source": []
  }
 ],
 "metadata": {
  "kernelspec": {
   "display_name": "machine",
   "language": "python",
   "name": "python3"
  },
  "language_info": {
   "codemirror_mode": {
    "name": "ipython",
    "version": 3
   },
   "file_extension": ".py",
   "mimetype": "text/x-python",
   "name": "python",
   "nbconvert_exporter": "python",
   "pygments_lexer": "ipython3",
   "version": "3.8.16"
  },
  "orig_nbformat": 4
 },
 "nbformat": 4,
 "nbformat_minor": 2
}

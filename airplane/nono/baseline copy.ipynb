{
 "cells": [
  {
   "cell_type": "markdown",
   "id": "46469143-4dc6-45fc-a170-8f8ff0d5cadb",
   "metadata": {},
   "source": [
    "# Import"
   ]
  },
  {
   "cell_type": "code",
   "execution_count": 364,
   "id": "92e7a046-0bad-4e73-be84-f1bb3cb4dd69",
   "metadata": {},
   "outputs": [],
   "source": [
    "import pandas as pd\n",
    "import numpy as np\n",
    "import random\n",
    "import os\n",
    "import gc\n",
    "from sklearn.metrics import accuracy_score\n",
    "from sklearn.model_selection import train_test_split\n",
    "from sklearn.ensemble import RandomForestClassifier\n",
    "from xgboost import XGBClassifier\n",
    "from sklearn.preprocessing import LabelEncoder"
   ]
  },
  {
   "cell_type": "code",
   "execution_count": 365,
   "id": "8f00f765",
   "metadata": {},
   "outputs": [],
   "source": [
    "from sklearn.preprocessing import MinMaxScaler\n",
    "\n",
    "scaler = MinMaxScaler()"
   ]
  },
  {
   "cell_type": "code",
   "execution_count": 366,
   "id": "e4a25bfd-d2ec-4340-a613-720494952bc1",
   "metadata": {},
   "outputs": [],
   "source": [
    "def seed_everything(seed):\n",
    "    random.seed(seed)\n",
    "    os.environ['PYTHONHASHSEED'] = str(seed)\n",
    "    np.random.seed(seed)\n",
    "seed_everything(42) # Seed 고정"
   ]
  },
  {
   "cell_type": "markdown",
   "id": "817bc98a-2046-4da1-8878-5104ba931bc3",
   "metadata": {},
   "source": [
    "# csv to parquet\n",
    "메모리에 효율적인 데이터 유형을 사용하여 용량을 줄이고 빠른 작업이 가능합니다"
   ]
  },
  {
   "cell_type": "code",
   "execution_count": 367,
   "id": "2d5e4bd1-100d-4c50-89bf-59fe47b4cdc5",
   "metadata": {},
   "outputs": [],
   "source": [
    "def csv_to_parquet(csv_path, save_name):\n",
    "    df = pd.read_csv(csv_path)\n",
    "    df.to_parquet(f'./{save_name}.parquet')\n",
    "    del df\n",
    "    gc.collect()\n",
    "    print(save_name, 'Done.')"
   ]
  },
  {
   "cell_type": "code",
   "execution_count": 368,
   "id": "5adaf4ff-d681-43a1-b90f-f674481a4700",
   "metadata": {},
   "outputs": [
    {
     "name": "stdout",
     "output_type": "stream",
     "text": [
      "train Done.\n",
      "test Done.\n"
     ]
    }
   ],
   "source": [
    "csv_to_parquet('./train.csv', 'train')\n",
    "csv_to_parquet('./test.csv', 'test')"
   ]
  },
  {
   "cell_type": "markdown",
   "id": "207c6ea8-f8eb-4b87-9783-1930ee9417f1",
   "metadata": {},
   "source": [
    "# Data Load"
   ]
  },
  {
   "cell_type": "code",
   "execution_count": 383,
   "id": "0efe7ed9-f622-4790-b9f1-cae9490a29ba",
   "metadata": {},
   "outputs": [],
   "source": [
    "train = pd.read_parquet('./train.parquet')\n",
    "test = pd.read_parquet('./test.parquet')\n",
    "sample_submission = pd.read_csv('sample_submission.csv', index_col = 0)"
   ]
  },
  {
   "cell_type": "markdown",
   "id": "fdf53d4e-957d-4b3f-8d6b-0335822e1794",
   "metadata": {},
   "source": [
    "# Data Pre-Processing"
   ]
  },
  {
   "cell_type": "code",
   "execution_count": 384,
   "id": "33be9389",
   "metadata": {},
   "outputs": [],
   "source": [
    "# Carrier ID를 채울때 Airline 혹은 Carriercode가 같은 행의 데이터로 채운다.\n",
    "train_df = pd.DataFrame(train)\n",
    "test_df = pd.DataFrame(test)"
   ]
  },
  {
   "cell_type": "code",
   "execution_count": 385,
   "id": "3351b027",
   "metadata": {},
   "outputs": [],
   "source": [
    "airline_list = train_df[['Airline',\"Carrier_Code(IATA)\",\"Carrier_ID(DOT)\"]]\n",
    "airline_list.dropna(inplace=True)\n",
    "airline_list.drop_duplicates(inplace=True)\n"
   ]
  },
  {
   "cell_type": "code",
   "execution_count": 386,
   "id": "3f1b3309",
   "metadata": {},
   "outputs": [],
   "source": [
    "def missing_values(df):\n",
    "    missing_values = df[\"Carrier_ID(DOT)\"].isnull()\n",
    "    for idx, value in enumerate(missing_values):\n",
    "        if value:\n",
    "            subset = airline_list[(airline_list[\"Airline\"] == df[\"Airline\"][idx]) | (airline_list[\"Carrier_Code(IATA)\"] == df[\"Carrier_Code(IATA)\"][idx])]\n",
    "            if len(subset) > 0:\n",
    "                df.at[idx, \"Carrier_ID(DOT)\"] = subset[\"Carrier_ID(DOT)\"].iloc[0]\n",
    "                continue\n",
    "    return df\n",
    "\n",
    "train_df = missing_values(train_df)\n",
    "test_df = missing_values(test_df)"
   ]
  },
  {
   "cell_type": "code",
   "execution_count": 387,
   "id": "61e602a6",
   "metadata": {},
   "outputs": [],
   "source": [
    "# missing_values = train_df[\"Carrier_ID(DOT)\"].isnull()\n",
    "\n",
    "# for idx, value in enumerate(missing_values):\n",
    "#     if value:\n",
    "#         subset = airline_list[(airline_list[\"Airline\"] == train_df[\"Airline\"][idx]) | (airline_list[\"Carrier_Code(IATA)\"] == train_df[\"Carrier_Code(IATA)\"][idx])]\n",
    "#         if len(subset) > 0:\n",
    "#             train_df.at[idx, \"Carrier_ID(DOT)\"] = subset[\"Carrier_ID(DOT)\"].iloc[0]\n",
    "#             continue"
   ]
  },
  {
   "cell_type": "code",
   "execution_count": 388,
   "id": "76feee0e",
   "metadata": {},
   "outputs": [],
   "source": [
    "train_df['date'] = train_df['Month'].astype(str)+'-'+train_df['Day_of_Month'].astype(str)\n",
    "train_df['date'] = pd.to_datetime(train_df['date'], format='%m-%d')\n",
    "test_df['date'] = test_df['Month'].astype(str)+'-'+test_df['Day_of_Month'].astype(str)\n",
    "test_df['date'] = pd.to_datetime(test_df['date'], format='%m-%d')"
   ]
  },
  {
   "cell_type": "code",
   "execution_count": 390,
   "id": "61a40696-65f4-4021-8bc6-1d27177f1b63",
   "metadata": {},
   "outputs": [],
   "source": [
    "#질적 변수들을 수치화합니다\n",
    "# qual_col = ['Origin_Airport', 'Origin_State', 'Destination_Airport', 'Destination_State', 'Airline', 'Carrier_Code(IATA)', 'Tail_Number']\n",
    "qual_col = ['date','Tail_Number']\n",
    "for i in qual_col:\n",
    "    le = LabelEncoder()\n",
    "    test_df[i] = le.fit_transform(test_df[i])\n",
    "    le=le.fit(train_df[i])\n",
    "    train_df[i]=le.transform(train_df[i])\n",
    "    \n",
    "\n",
    "\n",
    "#     for label in np.unique(test_df[i]):\n",
    "#         if label not in le.classes_: \n",
    "#             le.classes_ = np.append(le.classes_, label)\n",
    "#     test_df[i]=le.transform(test_df[i])\n",
    "# print('Done.')"
   ]
  },
  {
   "cell_type": "code",
   "execution_count": 391,
   "id": "ad874bec",
   "metadata": {},
   "outputs": [],
   "source": [
    "#레이블이 없는 데이터들을 제거합니다\n",
    "droplist = ['ID','Month','Day_of_Month', 'Origin_Airport','Origin_State','Destination_Airport','Destination_State','Airline','Carrier_Code(IATA)','Cancelled',\t'Diverted']\n",
    "train_df.replace('Delayed',1,inplace=True)\n",
    "train_df.replace('Not_Delayed',0,inplace=True)\n",
    "train_df['Delay_Num'] = pd.to_numeric(train_df['Delay'])\n",
    "train_df.drop(columns=droplist+['Delay'],inplace=True,axis=1)"
   ]
  },
  {
   "cell_type": "code",
   "execution_count": 392,
   "id": "08a9b8b1-a8ba-4d14-8cd7-054510cbad10",
   "metadata": {},
   "outputs": [],
   "source": [
    "train_df.dropna(inplace=True)\n",
    "train_x = train_df.drop(columns=['Delay_Num'])\n",
    "train_y = train_df['Delay_Num']\n",
    "test_x = test_df.drop(columns=droplist)"
   ]
  },
  {
   "cell_type": "code",
   "execution_count": 393,
   "id": "aaa831bd",
   "metadata": {},
   "outputs": [],
   "source": [
    "scaler.fit(train_x)\n",
    "train_x = scaler.transform(train_x)\n",
    "scaler.fit(test_x)\n",
    "test_x = scaler.transform(test_x)"
   ]
  },
  {
   "cell_type": "code",
   "execution_count": 394,
   "id": "cb6080f1",
   "metadata": {},
   "outputs": [],
   "source": [
    "param_grid = {\n",
    "    'learning_rate':0.05,\n",
    "    'max_depth': 7,\n",
    "    'min_child_weight':5,\n",
    "    'subsample':1,\n",
    "    'colsample_bytree':1\n",
    "}\n",
    "xgb = XGBClassifier(**param_grid,n_estimaters = 10000,early_stopping_rounds=100)\n",
    "X_train, X_test, y_train, y_test = train_test_split(\n",
    "    train_x, train_y, test_size=0.2, random_state=42\n",
    ")\n"
   ]
  },
  {
   "cell_type": "code",
   "execution_count": 395,
   "id": "e2c3b058",
   "metadata": {},
   "outputs": [
    {
     "name": "stdout",
     "output_type": "stream",
     "text": [
      "[16:24:23] WARNING: /Users/runner/work/xgboost/xgboost/python-package/build/temp.macosx-11.0-arm64-cpython-38/xgboost/src/learner.cc:767: \n",
      "Parameters: { \"n_estimaters\" } are not used.\n",
      "\n",
      "[0]\tvalidation_0-logloss:0.67179\n",
      "[1]\tvalidation_0-logloss:0.65249\n",
      "[2]\tvalidation_0-logloss:0.63499\n",
      "[3]\tvalidation_0-logloss:0.61912\n",
      "[4]\tvalidation_0-logloss:0.60469\n",
      "[5]\tvalidation_0-logloss:0.59156\n",
      "[6]\tvalidation_0-logloss:0.57954\n",
      "[7]\tvalidation_0-logloss:0.56859\n",
      "[8]\tvalidation_0-logloss:0.55858\n",
      "[9]\tvalidation_0-logloss:0.54945\n",
      "[10]\tvalidation_0-logloss:0.54111\n",
      "[11]\tvalidation_0-logloss:0.53344\n",
      "[12]\tvalidation_0-logloss:0.52637\n",
      "[13]\tvalidation_0-logloss:0.51994\n",
      "[14]\tvalidation_0-logloss:0.51404\n",
      "[15]\tvalidation_0-logloss:0.50862\n",
      "[16]\tvalidation_0-logloss:0.50364\n",
      "[17]\tvalidation_0-logloss:0.49909\n",
      "[18]\tvalidation_0-logloss:0.49488\n",
      "[19]\tvalidation_0-logloss:0.49105\n",
      "[20]\tvalidation_0-logloss:0.48745\n",
      "[21]\tvalidation_0-logloss:0.48421\n",
      "[22]\tvalidation_0-logloss:0.48121\n",
      "[23]\tvalidation_0-logloss:0.47844\n",
      "[24]\tvalidation_0-logloss:0.47594\n",
      "[25]\tvalidation_0-logloss:0.47365\n",
      "[26]\tvalidation_0-logloss:0.47155\n",
      "[27]\tvalidation_0-logloss:0.46958\n",
      "[28]\tvalidation_0-logloss:0.46773\n",
      "[29]\tvalidation_0-logloss:0.46611\n",
      "[30]\tvalidation_0-logloss:0.46461\n",
      "[31]\tvalidation_0-logloss:0.46320\n",
      "[32]\tvalidation_0-logloss:0.46195\n",
      "[33]\tvalidation_0-logloss:0.46078\n",
      "[34]\tvalidation_0-logloss:0.45970\n",
      "[35]\tvalidation_0-logloss:0.45871\n",
      "[36]\tvalidation_0-logloss:0.45781\n",
      "[37]\tvalidation_0-logloss:0.45699\n",
      "[38]\tvalidation_0-logloss:0.45621\n",
      "[39]\tvalidation_0-logloss:0.45549\n",
      "[40]\tvalidation_0-logloss:0.45483\n",
      "[41]\tvalidation_0-logloss:0.45422\n",
      "[42]\tvalidation_0-logloss:0.45360\n",
      "[43]\tvalidation_0-logloss:0.45306\n",
      "[44]\tvalidation_0-logloss:0.45259\n",
      "[45]\tvalidation_0-logloss:0.45215\n",
      "[46]\tvalidation_0-logloss:0.45179\n",
      "[47]\tvalidation_0-logloss:0.45139\n",
      "[48]\tvalidation_0-logloss:0.45103\n",
      "[49]\tvalidation_0-logloss:0.45067\n",
      "[50]\tvalidation_0-logloss:0.45033\n",
      "[51]\tvalidation_0-logloss:0.44995\n",
      "[52]\tvalidation_0-logloss:0.44968\n",
      "[53]\tvalidation_0-logloss:0.44944\n",
      "[54]\tvalidation_0-logloss:0.44923\n",
      "[55]\tvalidation_0-logloss:0.44897\n",
      "[56]\tvalidation_0-logloss:0.44875\n",
      "[57]\tvalidation_0-logloss:0.44854\n",
      "[58]\tvalidation_0-logloss:0.44833\n",
      "[59]\tvalidation_0-logloss:0.44813\n",
      "[60]\tvalidation_0-logloss:0.44795\n",
      "[61]\tvalidation_0-logloss:0.44778\n",
      "[62]\tvalidation_0-logloss:0.44763\n",
      "[63]\tvalidation_0-logloss:0.44750\n",
      "[64]\tvalidation_0-logloss:0.44734\n",
      "[65]\tvalidation_0-logloss:0.44719\n",
      "[66]\tvalidation_0-logloss:0.44707\n",
      "[67]\tvalidation_0-logloss:0.44695\n",
      "[68]\tvalidation_0-logloss:0.44684\n",
      "[69]\tvalidation_0-logloss:0.44669\n",
      "[70]\tvalidation_0-logloss:0.44661\n",
      "[71]\tvalidation_0-logloss:0.44654\n",
      "[72]\tvalidation_0-logloss:0.44642\n",
      "[73]\tvalidation_0-logloss:0.44636\n",
      "[74]\tvalidation_0-logloss:0.44628\n",
      "[75]\tvalidation_0-logloss:0.44618\n",
      "[76]\tvalidation_0-logloss:0.44611\n",
      "[77]\tvalidation_0-logloss:0.44602\n",
      "[78]\tvalidation_0-logloss:0.44591\n",
      "[79]\tvalidation_0-logloss:0.44582\n",
      "[80]\tvalidation_0-logloss:0.44578\n",
      "[81]\tvalidation_0-logloss:0.44574\n",
      "[82]\tvalidation_0-logloss:0.44567\n",
      "[83]\tvalidation_0-logloss:0.44555\n",
      "[84]\tvalidation_0-logloss:0.44549\n",
      "[85]\tvalidation_0-logloss:0.44544\n",
      "[86]\tvalidation_0-logloss:0.44538\n",
      "[87]\tvalidation_0-logloss:0.44529\n",
      "[88]\tvalidation_0-logloss:0.44525\n",
      "[89]\tvalidation_0-logloss:0.44514\n",
      "[90]\tvalidation_0-logloss:0.44507\n",
      "[91]\tvalidation_0-logloss:0.44497\n",
      "[92]\tvalidation_0-logloss:0.44493\n",
      "[93]\tvalidation_0-logloss:0.44486\n",
      "[94]\tvalidation_0-logloss:0.44482\n",
      "[95]\tvalidation_0-logloss:0.44474\n",
      "[96]\tvalidation_0-logloss:0.44467\n",
      "[97]\tvalidation_0-logloss:0.44460\n",
      "[98]\tvalidation_0-logloss:0.44456\n",
      "[99]\tvalidation_0-logloss:0.44449\n"
     ]
    },
    {
     "data": {
      "text/html": [
       "<style>#sk-container-id-21 {color: black;background-color: white;}#sk-container-id-21 pre{padding: 0;}#sk-container-id-21 div.sk-toggleable {background-color: white;}#sk-container-id-21 label.sk-toggleable__label {cursor: pointer;display: block;width: 100%;margin-bottom: 0;padding: 0.3em;box-sizing: border-box;text-align: center;}#sk-container-id-21 label.sk-toggleable__label-arrow:before {content: \"▸\";float: left;margin-right: 0.25em;color: #696969;}#sk-container-id-21 label.sk-toggleable__label-arrow:hover:before {color: black;}#sk-container-id-21 div.sk-estimator:hover label.sk-toggleable__label-arrow:before {color: black;}#sk-container-id-21 div.sk-toggleable__content {max-height: 0;max-width: 0;overflow: hidden;text-align: left;background-color: #f0f8ff;}#sk-container-id-21 div.sk-toggleable__content pre {margin: 0.2em;color: black;border-radius: 0.25em;background-color: #f0f8ff;}#sk-container-id-21 input.sk-toggleable__control:checked~div.sk-toggleable__content {max-height: 200px;max-width: 100%;overflow: auto;}#sk-container-id-21 input.sk-toggleable__control:checked~label.sk-toggleable__label-arrow:before {content: \"▾\";}#sk-container-id-21 div.sk-estimator input.sk-toggleable__control:checked~label.sk-toggleable__label {background-color: #d4ebff;}#sk-container-id-21 div.sk-label input.sk-toggleable__control:checked~label.sk-toggleable__label {background-color: #d4ebff;}#sk-container-id-21 input.sk-hidden--visually {border: 0;clip: rect(1px 1px 1px 1px);clip: rect(1px, 1px, 1px, 1px);height: 1px;margin: -1px;overflow: hidden;padding: 0;position: absolute;width: 1px;}#sk-container-id-21 div.sk-estimator {font-family: monospace;background-color: #f0f8ff;border: 1px dotted black;border-radius: 0.25em;box-sizing: border-box;margin-bottom: 0.5em;}#sk-container-id-21 div.sk-estimator:hover {background-color: #d4ebff;}#sk-container-id-21 div.sk-parallel-item::after {content: \"\";width: 100%;border-bottom: 1px solid gray;flex-grow: 1;}#sk-container-id-21 div.sk-label:hover label.sk-toggleable__label {background-color: #d4ebff;}#sk-container-id-21 div.sk-serial::before {content: \"\";position: absolute;border-left: 1px solid gray;box-sizing: border-box;top: 0;bottom: 0;left: 50%;z-index: 0;}#sk-container-id-21 div.sk-serial {display: flex;flex-direction: column;align-items: center;background-color: white;padding-right: 0.2em;padding-left: 0.2em;position: relative;}#sk-container-id-21 div.sk-item {position: relative;z-index: 1;}#sk-container-id-21 div.sk-parallel {display: flex;align-items: stretch;justify-content: center;background-color: white;position: relative;}#sk-container-id-21 div.sk-item::before, #sk-container-id-21 div.sk-parallel-item::before {content: \"\";position: absolute;border-left: 1px solid gray;box-sizing: border-box;top: 0;bottom: 0;left: 50%;z-index: -1;}#sk-container-id-21 div.sk-parallel-item {display: flex;flex-direction: column;z-index: 1;position: relative;background-color: white;}#sk-container-id-21 div.sk-parallel-item:first-child::after {align-self: flex-end;width: 50%;}#sk-container-id-21 div.sk-parallel-item:last-child::after {align-self: flex-start;width: 50%;}#sk-container-id-21 div.sk-parallel-item:only-child::after {width: 0;}#sk-container-id-21 div.sk-dashed-wrapped {border: 1px dashed gray;margin: 0 0.4em 0.5em 0.4em;box-sizing: border-box;padding-bottom: 0.4em;background-color: white;}#sk-container-id-21 div.sk-label label {font-family: monospace;font-weight: bold;display: inline-block;line-height: 1.2em;}#sk-container-id-21 div.sk-label-container {text-align: center;}#sk-container-id-21 div.sk-container {/* jupyter's `normalize.less` sets `[hidden] { display: none; }` but bootstrap.min.css set `[hidden] { display: none !important; }` so we also need the `!important` here to be able to override the default hidden behavior on the sphinx rendered scikit-learn.org. See: https://github.com/scikit-learn/scikit-learn/issues/21755 */display: inline-block !important;position: relative;}#sk-container-id-21 div.sk-text-repr-fallback {display: none;}</style><div id=\"sk-container-id-21\" class=\"sk-top-container\"><div class=\"sk-text-repr-fallback\"><pre>XGBClassifier(base_score=None, booster=None, callbacks=None,\n",
       "              colsample_bylevel=None, colsample_bynode=None, colsample_bytree=1,\n",
       "              early_stopping_rounds=100, enable_categorical=False,\n",
       "              eval_metric=None, feature_types=None, gamma=None, gpu_id=None,\n",
       "              grow_policy=None, importance_type=None,\n",
       "              interaction_constraints=None, learning_rate=0.05, max_bin=None,\n",
       "              max_cat_threshold=None, max_cat_to_onehot=None,\n",
       "              max_delta_step=None, max_depth=7, max_leaves=None,\n",
       "              min_child_weight=5, missing=nan, monotone_constraints=None,\n",
       "              n_estimaters=10000, n_estimators=100, n_jobs=None,\n",
       "              num_parallel_tree=None, predictor=None, ...)</pre><b>In a Jupyter environment, please rerun this cell to show the HTML representation or trust the notebook. <br />On GitHub, the HTML representation is unable to render, please try loading this page with nbviewer.org.</b></div><div class=\"sk-container\" hidden><div class=\"sk-item\"><div class=\"sk-estimator sk-toggleable\"><input class=\"sk-toggleable__control sk-hidden--visually\" id=\"sk-estimator-id-29\" type=\"checkbox\" checked><label for=\"sk-estimator-id-29\" class=\"sk-toggleable__label sk-toggleable__label-arrow\">XGBClassifier</label><div class=\"sk-toggleable__content\"><pre>XGBClassifier(base_score=None, booster=None, callbacks=None,\n",
       "              colsample_bylevel=None, colsample_bynode=None, colsample_bytree=1,\n",
       "              early_stopping_rounds=100, enable_categorical=False,\n",
       "              eval_metric=None, feature_types=None, gamma=None, gpu_id=None,\n",
       "              grow_policy=None, importance_type=None,\n",
       "              interaction_constraints=None, learning_rate=0.05, max_bin=None,\n",
       "              max_cat_threshold=None, max_cat_to_onehot=None,\n",
       "              max_delta_step=None, max_depth=7, max_leaves=None,\n",
       "              min_child_weight=5, missing=nan, monotone_constraints=None,\n",
       "              n_estimaters=10000, n_estimators=100, n_jobs=None,\n",
       "              num_parallel_tree=None, predictor=None, ...)</pre></div></div></div></div></div>"
      ],
      "text/plain": [
       "XGBClassifier(base_score=None, booster=None, callbacks=None,\n",
       "              colsample_bylevel=None, colsample_bynode=None, colsample_bytree=1,\n",
       "              early_stopping_rounds=100, enable_categorical=False,\n",
       "              eval_metric=None, feature_types=None, gamma=None, gpu_id=None,\n",
       "              grow_policy=None, importance_type=None,\n",
       "              interaction_constraints=None, learning_rate=0.05, max_bin=None,\n",
       "              max_cat_threshold=None, max_cat_to_onehot=None,\n",
       "              max_delta_step=None, max_depth=7, max_leaves=None,\n",
       "              min_child_weight=5, missing=nan, monotone_constraints=None,\n",
       "              n_estimaters=10000, n_estimators=100, n_jobs=None,\n",
       "              num_parallel_tree=None, predictor=None, ...)"
      ]
     },
     "execution_count": 395,
     "metadata": {},
     "output_type": "execute_result"
    }
   ],
   "source": [
    "xgb.fit(X_train, y_train,eval_set=[(X_test, y_test)])"
   ]
  },
  {
   "cell_type": "code",
   "execution_count": 396,
   "id": "b6a41ca3",
   "metadata": {},
   "outputs": [
    {
     "data": {
      "text/plain": [
       "0.8217870741235227"
      ]
     },
     "execution_count": 396,
     "metadata": {},
     "output_type": "execute_result"
    }
   ],
   "source": [
    "# Make predictions for the test set\n",
    "y_pred_test = xgb.predict(X_test)\n",
    "# View accuracy score\n",
    "accuracy_score(y_test, y_pred_test)"
   ]
  },
  {
   "cell_type": "code",
   "execution_count": 397,
   "id": "ee65de59",
   "metadata": {},
   "outputs": [],
   "source": [
    "y_pred = xgb.predict_proba(test_x)"
   ]
  },
  {
   "cell_type": "markdown",
   "id": "93532150-bec8-4b82-acb9-8e88fc809063",
   "metadata": {},
   "source": [
    "# Submit"
   ]
  },
  {
   "cell_type": "code",
   "execution_count": 315,
   "id": "f35843bb-7a8f-45c3-a626-3727fa96a588",
   "metadata": {},
   "outputs": [],
   "source": [
    "submission = pd.DataFrame(data=y_pred, columns=sample_submission.columns, index=sample_submission.index)"
   ]
  },
  {
   "cell_type": "code",
   "execution_count": 316,
   "id": "c91f2c9a-953c-48ca-a624-d4ad1bb72df9",
   "metadata": {},
   "outputs": [],
   "source": [
    "submission.to_csv('baseline_submission.csv', index=True)"
   ]
  },
  {
   "cell_type": "code",
   "execution_count": null,
   "id": "526e4f55",
   "metadata": {},
   "outputs": [],
   "source": []
  }
 ],
 "metadata": {
  "kernelspec": {
   "display_name": "Python 3",
   "language": "python",
   "name": "python3"
  },
  "language_info": {
   "codemirror_mode": {
    "name": "ipython",
    "version": 3
   },
   "file_extension": ".py",
   "mimetype": "text/x-python",
   "name": "python",
   "nbconvert_exporter": "python",
   "pygments_lexer": "ipython3",
   "version": "3.8.16"
  }
 },
 "nbformat": 4,
 "nbformat_minor": 5
}
